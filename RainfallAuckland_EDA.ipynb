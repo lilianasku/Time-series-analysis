{
 "cells": [
  {
   "cell_type": "markdown",
   "metadata": {},
   "source": [
    "# Exploratory data analysis of Auckland rainfall data\n"
   ]
  },
  {
   "cell_type": "markdown",
   "metadata": {},
   "source": [
    ">In this notebook, I am applying EDA methods to analyse rainfall data in Auckland between 1872 and 2011 and summarise the main characteristics. \n",
    "\n",
    "> A set of tables is taken from the Auckland Council website: https://environmentauckland.org.nz/Data/DataSet/Summary/Location/A64871M/DataSet/Rainfall/Continuous/Interval/Latest \n",
    "\n",
    ">There are five tables containing the amount of rain in millimetres, measured at two different locations: Mt Albert and City centre. The tables cover various time intervals starting from 6 years to 140 years, and they include both measured values and synthesized data. I am using an A64871M data file, covering a period between 1872 and 1997. The table contains five columns and 31652 rows, but only two columns are needed for our analysis:  dates and the amount of rain in millimetres. The dates are given for NZST (UTC +12h) time zone. The frequency of the measurements is between 1 and 10 days. "
   ]
  },
  {
   "cell_type": "markdown",
   "metadata": {},
   "source": [
    "### 1. Importing Python libraries"
   ]
  },
  {
   "cell_type": "code",
   "execution_count": 3,
   "metadata": {},
   "outputs": [],
   "source": [
    "import numpy as np\n",
    "import pandas as pd\n",
    "from pandas import datetime\n",
    "import matplotlib.pyplot as plt"
   ]
  },
  {
   "cell_type": "markdown",
   "metadata": {},
   "source": [
    "### 2. Reading input data file\n",
    "\n",
    "To read AucklandRainfall1872-1997.csv file, I am using the panda's function read_csv. "
   ]
  },
  {
   "cell_type": "code",
   "execution_count": 4,
   "metadata": {
    "scrolled": true
   },
   "outputs": [
    {
     "data": {
      "text/html": [
       "<div>\n",
       "<style scoped>\n",
       "    .dataframe tbody tr th:only-of-type {\n",
       "        vertical-align: middle;\n",
       "    }\n",
       "\n",
       "    .dataframe tbody tr th {\n",
       "        vertical-align: top;\n",
       "    }\n",
       "\n",
       "    .dataframe thead th {\n",
       "        text-align: right;\n",
       "    }\n",
       "</style>\n",
       "<table border=\"1\" class=\"dataframe\">\n",
       "  <thead>\n",
       "    <tr style=\"text-align: right;\">\n",
       "      <th></th>\n",
       "      <th>rain_value</th>\n",
       "      <th>grade</th>\n",
       "      <th>interpol_type</th>\n",
       "      <th>event_timestamp</th>\n",
       "    </tr>\n",
       "    <tr>\n",
       "      <th>timestamp</th>\n",
       "      <th></th>\n",
       "      <th></th>\n",
       "      <th></th>\n",
       "      <th></th>\n",
       "    </tr>\n",
       "  </thead>\n",
       "  <tbody>\n",
       "    <tr>\n",
       "      <td>1872-01-03</td>\n",
       "      <td>0.00</td>\n",
       "      <td>200</td>\n",
       "      <td>5</td>\n",
       "      <td>NaN</td>\n",
       "    </tr>\n",
       "    <tr>\n",
       "      <td>1872-01-04</td>\n",
       "      <td>3.81</td>\n",
       "      <td>200</td>\n",
       "      <td>5</td>\n",
       "      <td>NaN</td>\n",
       "    </tr>\n",
       "    <tr>\n",
       "      <td>1872-01-05</td>\n",
       "      <td>2.03</td>\n",
       "      <td>200</td>\n",
       "      <td>5</td>\n",
       "      <td>NaN</td>\n",
       "    </tr>\n",
       "    <tr>\n",
       "      <td>1872-01-09</td>\n",
       "      <td>0.00</td>\n",
       "      <td>200</td>\n",
       "      <td>5</td>\n",
       "      <td>NaN</td>\n",
       "    </tr>\n",
       "    <tr>\n",
       "      <td>1872-01-10</td>\n",
       "      <td>0.51</td>\n",
       "      <td>200</td>\n",
       "      <td>5</td>\n",
       "      <td>NaN</td>\n",
       "    </tr>\n",
       "  </tbody>\n",
       "</table>\n",
       "</div>"
      ],
      "text/plain": [
       "            rain_value  grade  interpol_type  event_timestamp\n",
       "timestamp                                                    \n",
       "1872-01-03        0.00    200              5              NaN\n",
       "1872-01-04        3.81    200              5              NaN\n",
       "1872-01-05        2.03    200              5              NaN\n",
       "1872-01-09        0.00    200              5              NaN\n",
       "1872-01-10        0.51    200              5              NaN"
      ]
     },
     "execution_count": 4,
     "metadata": {},
     "output_type": "execute_result"
    }
   ],
   "source": [
    "#setting the file path and the file name\n",
    "file = 'Data/AucklandRainfall1872-1997.csv'\n",
    "\n",
    "#reading file into data frame, rain, and setting date as index column of datetime type \n",
    "rain=pd.read_csv(file, skiprows=3, header=None,\n",
    "                  names=['timestamp','rain_value', 'grade', 'interpol_type', 'event_timestamp'],\n",
    "                  parse_dates=['timestamp'],\n",
    "                  index_col='timestamp')\n",
    "\n",
    "#printing the first lines of the rain.dat\n",
    "rain.head(5)"
   ]
  },
  {
   "cell_type": "markdown",
   "metadata": {},
   "source": [
    "### 3. Dropping unnecesary columns"
   ]
  },
  {
   "cell_type": "code",
   "execution_count": 5,
   "metadata": {},
   "outputs": [
    {
     "name": "stdout",
     "output_type": "stream",
     "text": [
      "<class 'pandas.core.frame.DataFrame'>\n",
      "DatetimeIndex: 31652 entries, 1872-01-03 00:00:00 to 1997-09-30 08:30:00\n",
      "Data columns (total 4 columns):\n",
      "rain_value         31652 non-null float64\n",
      "grade              31652 non-null int64\n",
      "interpol_type      31652 non-null int64\n",
      "event_timestamp    0 non-null float64\n",
      "dtypes: float64(2), int64(2)\n",
      "memory usage: 1.2 MB\n"
     ]
    },
    {
     "data": {
      "text/plain": [
       "200    1.0\n",
       "Name: grade, dtype: float64"
      ]
     },
     "metadata": {},
     "output_type": "display_data"
    },
    {
     "data": {
      "text/plain": [
       "5    1.0\n",
       "Name: interpol_type, dtype: float64"
      ]
     },
     "metadata": {},
     "output_type": "display_data"
    },
    {
     "data": {
      "text/plain": [
       "Series([], Name: event_timestamp, dtype: float64)"
      ]
     },
     "metadata": {},
     "output_type": "display_data"
    }
   ],
   "source": [
    "#displaying table infos\n",
    "rain.info(verbose=True)\n",
    "\n",
    "#counting unique values for grade, interpol_type and event_timestamp\n",
    "display(rain['grade'].value_counts(sort=True, normalize=True))\n",
    "display(rain['interpol_type'].value_counts(sort=True, normalize=True))\n",
    "display(rain['event_timestamp'].value_counts(sort=True, normalize=True))\n",
    "\n",
    "#dropping above columns     \n",
    "rain=rain.drop(columns=['event_timestamp', 'grade', 'interpol_type'])"
   ]
  },
  {
   "cell_type": "code",
   "execution_count": null,
   "metadata": {},
   "outputs": [],
   "source": []
  }
 ],
 "metadata": {
  "kernelspec": {
   "display_name": "Python 3",
   "language": "python",
   "name": "python3"
  },
  "language_info": {
   "codemirror_mode": {
    "name": "ipython",
    "version": 3
   },
   "file_extension": ".py",
   "mimetype": "text/x-python",
   "name": "python",
   "nbconvert_exporter": "python",
   "pygments_lexer": "ipython3",
   "version": "3.7.4"
  }
 },
 "nbformat": 4,
 "nbformat_minor": 2
}
