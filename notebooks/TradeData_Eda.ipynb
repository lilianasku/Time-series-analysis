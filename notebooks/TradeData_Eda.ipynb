{
 "cells": [
  {
   "cell_type": "markdown",
   "metadata": {},
   "source": [
    "## Timeseries analysis of StatsNZ trade data\n",
    "\n",
    "In this notebook, I will examine StatsNZ trade data between January 2014 and September 2022. The trade data includes values of NZ Exports and Imports for goods and services per country and product codes. \n",
    "\n",
    "The table is available from the Stats NZ trade website: \n",
    "<a href=\"https://statisticsnz.shinyapps.io/trade_dashboard/\">Stats NZ Trade Dashboard</a>\n"
   ]
  },
  {
   "cell_type": "markdown",
   "metadata": {},
   "source": [
    "#### Importing data and exploring columns"
   ]
  },
  {
   "cell_type": "code",
   "execution_count": 1,
   "metadata": {},
   "outputs": [],
   "source": [
    "#importing python libraries\n",
    "\n",
    "import pandas as pd\n",
    "import numpy as np\n",
    "import matplotlib.pyplot as plt\n",
    "from datetime import datetime"
   ]
  },
  {
   "cell_type": "code",
   "execution_count": 2,
   "metadata": {},
   "outputs": [],
   "source": [
    "#reading data into dataframe df\n",
    "\n",
    "file = '../data/Tradedata.csv'\n",
    "df = pd.read_csv(file, parse_dates=['Period'], index_col='Period')   "
   ]
  },
  {
   "cell_type": "code",
   "execution_count": 3,
   "metadata": {},
   "outputs": [
    {
     "data": {
      "text/html": [
       "<div>\n",
       "<style scoped>\n",
       "    .dataframe tbody tr th:only-of-type {\n",
       "        vertical-align: middle;\n",
       "    }\n",
       "\n",
       "    .dataframe tbody tr th {\n",
       "        vertical-align: top;\n",
       "    }\n",
       "\n",
       "    .dataframe thead th {\n",
       "        text-align: right;\n",
       "    }\n",
       "</style>\n",
       "<table border=\"1\" class=\"dataframe\">\n",
       "  <thead>\n",
       "    <tr style=\"text-align: right;\">\n",
       "      <th></th>\n",
       "      <th>Country Code</th>\n",
       "      <th>Country</th>\n",
       "      <th>Account</th>\n",
       "      <th>Category</th>\n",
       "      <th>Code</th>\n",
       "      <th>Flag</th>\n",
       "      <th>Total Value (NZD)</th>\n",
       "      <th>Description</th>\n",
       "    </tr>\n",
       "    <tr>\n",
       "      <th>Period</th>\n",
       "      <th></th>\n",
       "      <th></th>\n",
       "      <th></th>\n",
       "      <th></th>\n",
       "      <th></th>\n",
       "      <th></th>\n",
       "      <th></th>\n",
       "      <th></th>\n",
       "    </tr>\n",
       "  </thead>\n",
       "  <tbody>\n",
       "    <tr>\n",
       "      <th>201406</th>\n",
       "      <td>AF</td>\n",
       "      <td>Afghanistan</td>\n",
       "      <td>Imports</td>\n",
       "      <td>Goods</td>\n",
       "      <td>00</td>\n",
       "      <td>F</td>\n",
       "      <td>131905.0</td>\n",
       "      <td>Total</td>\n",
       "    </tr>\n",
       "    <tr>\n",
       "      <th>201406</th>\n",
       "      <td>AF</td>\n",
       "      <td>Afghanistan</td>\n",
       "      <td>Imports</td>\n",
       "      <td>Goods</td>\n",
       "      <td>08</td>\n",
       "      <td>F</td>\n",
       "      <td>107337.0</td>\n",
       "      <td>Fruits and nuts</td>\n",
       "    </tr>\n",
       "    <tr>\n",
       "      <th>201406</th>\n",
       "      <td>AF</td>\n",
       "      <td>Afghanistan</td>\n",
       "      <td>Imports</td>\n",
       "      <td>Goods</td>\n",
       "      <td>12</td>\n",
       "      <td>F</td>\n",
       "      <td>316.0</td>\n",
       "      <td>Oil seeds</td>\n",
       "    </tr>\n",
       "    <tr>\n",
       "      <th>201406</th>\n",
       "      <td>AF</td>\n",
       "      <td>Afghanistan</td>\n",
       "      <td>Imports</td>\n",
       "      <td>Goods</td>\n",
       "      <td>30</td>\n",
       "      <td>F</td>\n",
       "      <td>21786.0</td>\n",
       "      <td>Pharmaceuticals</td>\n",
       "    </tr>\n",
       "    <tr>\n",
       "      <th>201406</th>\n",
       "      <td>AF</td>\n",
       "      <td>Afghanistan</td>\n",
       "      <td>Imports</td>\n",
       "      <td>Goods</td>\n",
       "      <td>42</td>\n",
       "      <td>F</td>\n",
       "      <td>156.0</td>\n",
       "      <td>Leather products</td>\n",
       "    </tr>\n",
       "  </tbody>\n",
       "</table>\n",
       "</div>"
      ],
      "text/plain": [
       "       Country Code      Country  Account Category Code Flag  \\\n",
       "Period                                                         \n",
       "201406           AF  Afghanistan  Imports    Goods   00    F   \n",
       "201406           AF  Afghanistan  Imports    Goods   08    F   \n",
       "201406           AF  Afghanistan  Imports    Goods   12    F   \n",
       "201406           AF  Afghanistan  Imports    Goods   30    F   \n",
       "201406           AF  Afghanistan  Imports    Goods   42    F   \n",
       "\n",
       "        Total Value (NZD)       Description  \n",
       "Period                                       \n",
       "201406           131905.0             Total  \n",
       "201406           107337.0   Fruits and nuts  \n",
       "201406              316.0         Oil seeds  \n",
       "201406            21786.0   Pharmaceuticals  \n",
       "201406              156.0  Leather products  "
      ]
     },
     "execution_count": 3,
     "metadata": {},
     "output_type": "execute_result"
    }
   ],
   "source": [
    "df.head(5)"
   ]
  },
  {
   "cell_type": "code",
   "execution_count": 4,
   "metadata": {},
   "outputs": [
    {
     "name": "stdout",
     "output_type": "stream",
     "text": [
      "<class 'pandas.core.frame.DataFrame'>\n",
      "Int64Index: 413815 entries, 201406 to 202209\n",
      "Data columns (total 8 columns):\n",
      " #   Column             Non-Null Count   Dtype  \n",
      "---  ------             --------------   -----  \n",
      " 0   Country Code       413179 non-null  object \n",
      " 1   Country            413751 non-null  object \n",
      " 2   Account            413815 non-null  object \n",
      " 3   Category           413815 non-null  object \n",
      " 4   Code               413815 non-null  object \n",
      " 5   Flag               413815 non-null  object \n",
      " 6   Total Value (NZD)  413815 non-null  float64\n",
      " 7   Description        413815 non-null  object \n",
      "dtypes: float64(1), object(7)\n",
      "memory usage: 28.4+ MB\n"
     ]
    }
   ],
   "source": [
    "df.info()"
   ]
  },
  {
   "cell_type": "markdown",
   "metadata": {},
   "source": [
    "The trade table contains 413815 rows and 8 columns. The table does not have null values in the existing columns. "
   ]
  },
  {
   "cell_type": "code",
   "execution_count": 5,
   "metadata": {},
   "outputs": [
    {
     "name": "stdout",
     "output_type": "stream",
     "text": [
      "goods_exports: (164196, 8) goods_imports: (185076, 8)\n"
     ]
    }
   ],
   "source": [
    "#creating data frames for exported and imported goods\n",
    "\n",
    "goods_exports= df[(df[\"Account\"]=='Exports') & (df[\"Category\"]=='Goods') ]\n",
    "goods_imports= df[(df[\"Account\"]=='Imports') & (df[\"Category\"]=='Goods') ]\n",
    "\n",
    "#size of dataframes\n",
    "print('goods_exports:', goods_exports.shape, 'goods_imports:', goods_imports.shape)"
   ]
  },
  {
   "cell_type": "code",
   "execution_count": 6,
   "metadata": {},
   "outputs": [
    {
     "name": "stdout",
     "output_type": "stream",
     "text": [
      "Time Interval is between: 201406 quarter and  202209 quarter\n"
     ]
    },
    {
     "data": {
      "text/plain": [
       "Period\n",
       "201406    217\n",
       "201409    211\n",
       "201412    210\n",
       "201503    208\n",
       "201506    205\n",
       "201509    209\n",
       "201512    207\n",
       "201603    208\n",
       "201606    214\n",
       "201609    209\n",
       "201612    209\n",
       "201703    209\n",
       "201706    211\n",
       "201709    211\n",
       "201712    207\n",
       "201803    209\n",
       "201806    211\n",
       "201809    214\n",
       "201812    218\n",
       "201903    207\n",
       "201906    210\n",
       "201909    216\n",
       "201912    210\n",
       "202003    212\n",
       "202006    206\n",
       "202009    206\n",
       "202012    212\n",
       "202103    210\n",
       "202106    206\n",
       "202109    208\n",
       "202112    210\n",
       "202203    202\n",
       "202206    206\n",
       "202209    202\n",
       "Name: Country, dtype: int64"
      ]
     },
     "metadata": {},
     "output_type": "display_data"
    }
   ],
   "source": [
    "#Some statistics\n",
    "\n",
    "print('Time Interval is between:', goods_exports.index.min(), 'quarter and ', goods_exports.index.max(), 'quarter')\n",
    "\n",
    "\n",
    "#number of countries per quarter where goods are exported\n",
    "countries_perquarter = goods_exports.groupby('Period')['Country'].nunique()\n",
    "display(countries_perquarter)\n"
   ]
  },
  {
   "cell_type": "code",
   "execution_count": 7,
   "metadata": {},
   "outputs": [
    {
     "name": "stdout",
     "output_type": "stream",
     "text": [
      "services_exports: (35756, 8) services_imports: (28787, 8)\n"
     ]
    }
   ],
   "source": [
    "#creating data frames for exported and imported services\n",
    "\n",
    "services_exports= df[(df[\"Account\"]=='Exports') & (df[\"Category\"]=='Services') ]\n",
    "services_imports= df[(df[\"Account\"]=='Imports') & (df[\"Category\"]=='Services') ]\n",
    "\n",
    "#size of dataframes\n",
    "print('services_exports:', services_exports.shape, 'services_imports:', services_imports.shape)"
   ]
  },
  {
   "cell_type": "code",
   "execution_count": 8,
   "metadata": {},
   "outputs": [
    {
     "name": "stdout",
     "output_type": "stream",
     "text": [
      "Time Interval is between: 201406 quarter and  202209 quarter\n"
     ]
    }
   ],
   "source": [
    "#Some statistics\n",
    "\n",
    "print('Time Interval is between:', services_exports.index.min(), 'quarter and ', services_exports.index.max(), 'quarter')\n",
    "\n",
    "\n",
    "#number of countries per quarter where services are exported\n",
    "countries_perquarter = services_exports.groupby('Period')['Country'].nunique()\n"
   ]
  },
  {
   "cell_type": "code",
   "execution_count": null,
   "metadata": {},
   "outputs": [],
   "source": []
  }
 ],
 "metadata": {
  "kernelspec": {
   "display_name": "Python 3",
   "language": "python",
   "name": "python3"
  },
  "language_info": {
   "codemirror_mode": {
    "name": "ipython",
    "version": 3
   },
   "file_extension": ".py",
   "mimetype": "text/x-python",
   "name": "python",
   "nbconvert_exporter": "python",
   "pygments_lexer": "ipython3",
   "version": "3.7.4"
  }
 },
 "nbformat": 4,
 "nbformat_minor": 4
}
