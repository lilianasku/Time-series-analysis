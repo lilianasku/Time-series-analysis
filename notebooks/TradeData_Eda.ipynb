{
 "cells": [
  {
   "cell_type": "markdown",
   "metadata": {},
   "source": [
    "## Timeseries analysis of StatsNZ trade data\n",
    "\n",
    "In this notebook, I will examine StatsNZ trade data between January 2014 and September 2022. The trade data includes values of NZ Exports and Imports for goods and services per country and product codes. \n",
    "\n",
    "The table is available from the Stats NZ trade website: \n",
    "<a href=\"https://statisticsnz.shinyapps.io/trade_dashboard/\">Stats NZ Trade Dashboard</a>\n"
   ]
  },
  {
   "cell_type": "markdown",
   "metadata": {},
   "source": [
    "#### Importing data "
   ]
  },
  {
   "cell_type": "code",
   "execution_count": 1,
   "metadata": {},
   "outputs": [],
   "source": [
    "#importing python libraries\n",
    "\n",
    "import pandas as pd\n",
    "import numpy as np\n",
    "import matplotlib.pyplot as plt\n",
    "from datetime import datetime\n",
    "\n",
    "#setting plot style\n",
    "plt.style.use('seaborn')\n",
    "\n",
    "#setting plot size\n",
    "plt.rcParams['figure.figsize'] = [12,6]"
   ]
  },
  {
   "cell_type": "code",
   "execution_count": 2,
   "metadata": {},
   "outputs": [],
   "source": [
    "#reading data into dataframe df\n",
    "\n",
    "file = '../data/Tradedata.csv'\n",
    "\n",
    "quarter_date_parser = lambda x: datetime.strptime(x, \"%Y%m\")\n",
    "\n",
    "df = pd.read_csv(file, parse_dates=['Period'], date_parser=quarter_date_parser, index_col='Period') \n"
   ]
  },
  {
   "cell_type": "code",
   "execution_count": 3,
   "metadata": {},
   "outputs": [
    {
     "data": {
      "text/html": [
       "<div>\n",
       "<style scoped>\n",
       "    .dataframe tbody tr th:only-of-type {\n",
       "        vertical-align: middle;\n",
       "    }\n",
       "\n",
       "    .dataframe tbody tr th {\n",
       "        vertical-align: top;\n",
       "    }\n",
       "\n",
       "    .dataframe thead th {\n",
       "        text-align: right;\n",
       "    }\n",
       "</style>\n",
       "<table border=\"1\" class=\"dataframe\">\n",
       "  <thead>\n",
       "    <tr style=\"text-align: right;\">\n",
       "      <th></th>\n",
       "      <th>Country Code</th>\n",
       "      <th>Country</th>\n",
       "      <th>Account</th>\n",
       "      <th>Category</th>\n",
       "      <th>Code</th>\n",
       "      <th>Flag</th>\n",
       "      <th>Total Value (NZD)</th>\n",
       "      <th>Description</th>\n",
       "    </tr>\n",
       "    <tr>\n",
       "      <th>Period</th>\n",
       "      <th></th>\n",
       "      <th></th>\n",
       "      <th></th>\n",
       "      <th></th>\n",
       "      <th></th>\n",
       "      <th></th>\n",
       "      <th></th>\n",
       "      <th></th>\n",
       "    </tr>\n",
       "  </thead>\n",
       "  <tbody>\n",
       "    <tr>\n",
       "      <th>2014-06-01</th>\n",
       "      <td>AF</td>\n",
       "      <td>Afghanistan</td>\n",
       "      <td>Imports</td>\n",
       "      <td>Goods</td>\n",
       "      <td>00</td>\n",
       "      <td>F</td>\n",
       "      <td>131905.0</td>\n",
       "      <td>Total</td>\n",
       "    </tr>\n",
       "    <tr>\n",
       "      <th>2014-06-01</th>\n",
       "      <td>AF</td>\n",
       "      <td>Afghanistan</td>\n",
       "      <td>Imports</td>\n",
       "      <td>Goods</td>\n",
       "      <td>08</td>\n",
       "      <td>F</td>\n",
       "      <td>107337.0</td>\n",
       "      <td>Fruits and nuts</td>\n",
       "    </tr>\n",
       "    <tr>\n",
       "      <th>2014-06-01</th>\n",
       "      <td>AF</td>\n",
       "      <td>Afghanistan</td>\n",
       "      <td>Imports</td>\n",
       "      <td>Goods</td>\n",
       "      <td>12</td>\n",
       "      <td>F</td>\n",
       "      <td>316.0</td>\n",
       "      <td>Oil seeds</td>\n",
       "    </tr>\n",
       "    <tr>\n",
       "      <th>2014-06-01</th>\n",
       "      <td>AF</td>\n",
       "      <td>Afghanistan</td>\n",
       "      <td>Imports</td>\n",
       "      <td>Goods</td>\n",
       "      <td>30</td>\n",
       "      <td>F</td>\n",
       "      <td>21786.0</td>\n",
       "      <td>Pharmaceuticals</td>\n",
       "    </tr>\n",
       "    <tr>\n",
       "      <th>2014-06-01</th>\n",
       "      <td>AF</td>\n",
       "      <td>Afghanistan</td>\n",
       "      <td>Imports</td>\n",
       "      <td>Goods</td>\n",
       "      <td>42</td>\n",
       "      <td>F</td>\n",
       "      <td>156.0</td>\n",
       "      <td>Leather products</td>\n",
       "    </tr>\n",
       "  </tbody>\n",
       "</table>\n",
       "</div>"
      ],
      "text/plain": [
       "           Country Code      Country  Account Category Code Flag  \\\n",
       "Period                                                             \n",
       "2014-06-01           AF  Afghanistan  Imports    Goods   00    F   \n",
       "2014-06-01           AF  Afghanistan  Imports    Goods   08    F   \n",
       "2014-06-01           AF  Afghanistan  Imports    Goods   12    F   \n",
       "2014-06-01           AF  Afghanistan  Imports    Goods   30    F   \n",
       "2014-06-01           AF  Afghanistan  Imports    Goods   42    F   \n",
       "\n",
       "            Total Value (NZD)       Description  \n",
       "Period                                           \n",
       "2014-06-01           131905.0             Total  \n",
       "2014-06-01           107337.0   Fruits and nuts  \n",
       "2014-06-01              316.0         Oil seeds  \n",
       "2014-06-01            21786.0   Pharmaceuticals  \n",
       "2014-06-01              156.0  Leather products  "
      ]
     },
     "execution_count": 3,
     "metadata": {},
     "output_type": "execute_result"
    }
   ],
   "source": [
    "df.head(5)"
   ]
  },
  {
   "cell_type": "code",
   "execution_count": 4,
   "metadata": {},
   "outputs": [
    {
     "name": "stdout",
     "output_type": "stream",
     "text": [
      "<class 'pandas.core.frame.DataFrame'>\n",
      "DatetimeIndex: 413815 entries, 2014-06-01 to 2022-09-01\n",
      "Data columns (total 8 columns):\n",
      " #   Column             Non-Null Count   Dtype  \n",
      "---  ------             --------------   -----  \n",
      " 0   Country Code       413179 non-null  object \n",
      " 1   Country            413751 non-null  object \n",
      " 2   Account            413815 non-null  object \n",
      " 3   Category           413815 non-null  object \n",
      " 4   Code               413815 non-null  object \n",
      " 5   Flag               413815 non-null  object \n",
      " 6   Total Value (NZD)  413815 non-null  float64\n",
      " 7   Description        413815 non-null  object \n",
      "dtypes: float64(1), object(7)\n",
      "memory usage: 28.4+ MB\n"
     ]
    }
   ],
   "source": [
    "df.info()"
   ]
  },
  {
   "cell_type": "markdown",
   "metadata": {},
   "source": [
    "The trade table contains 413815 rows and 8 columns. The 'Country' and 'Country Code' columns have 64 and 636 missing values retrospectively. "
   ]
  },
  {
   "cell_type": "code",
   "execution_count": 5,
   "metadata": {},
   "outputs": [
    {
     "name": "stdout",
     "output_type": "stream",
     "text": [
      "Number of missing values in Country column: 64\n",
      "Number of missing values in Country Code column: 636\n"
     ]
    }
   ],
   "source": [
    "print('Number of missing values in Country column:', df['Country'].isnull().sum())\n",
    "print('Number of missing values in Country Code column:', df['Country Code'].isnull().sum())\n",
    "\n",
    "#print(df[df['Country'].isnull()])\n",
    "#print(df[df['Country Code'].isnull()])"
   ]
  },
  {
   "cell_type": "markdown",
   "metadata": {},
   "source": [
    "The trade table contains 413815 rows and 8 columns.  The columns, 'Country' and 'Country Code' have some missing values.  "
   ]
  },
  {
   "cell_type": "markdown",
   "metadata": {},
   "source": [
    "#### Dataframes for goods"
   ]
  },
  {
   "cell_type": "code",
   "execution_count": 6,
   "metadata": {},
   "outputs": [
    {
     "name": "stdout",
     "output_type": "stream",
     "text": [
      "goods_exports: (164196, 8) goods_imports: (185076, 8)\n"
     ]
    }
   ],
   "source": [
    "#creating data frames for exported and imported goods\n",
    "\n",
    "goods_exports= df[(df[\"Account\"]=='Exports') & (df[\"Category\"]=='Goods') ]\n",
    "goods_imports= df[(df[\"Account\"]=='Imports') & (df[\"Category\"]=='Goods') ]\n",
    "\n",
    "#size of dataframes\n",
    "print('goods_exports:', goods_exports.shape, 'goods_imports:', goods_imports.shape)"
   ]
  },
  {
   "cell_type": "markdown",
   "metadata": {},
   "source": [
    "Values of exports and imports are aggregated per quarter. The quarters are marked with the numbers: '03' - the first quarter, '06' - the second quarter, '09' - the third, and '12' - the fourth quarter"
   ]
  },
  {
   "cell_type": "code",
   "execution_count": 7,
   "metadata": {},
   "outputs": [
    {
     "name": "stdout",
     "output_type": "stream",
     "text": [
      "Time Interval: between  2014-06-01 00:00:00 quarter and  2022-09-01 00:00:00 quarter\n"
     ]
    }
   ],
   "source": [
    "print('Time Interval: between ', goods_exports.index.min(), 'quarter and ', goods_exports.index.max(), 'quarter')"
   ]
  },
  {
   "cell_type": "markdown",
   "metadata": {},
   "source": [
    "Exported and imported products are labeled as two digits codes, where the code '00' represents the total values of all exported/imported products per country "
   ]
  },
  {
   "cell_type": "code",
   "execution_count": 8,
   "metadata": {},
   "outputs": [
    {
     "name": "stdout",
     "output_type": "stream",
     "text": [
      "Number of unique codes for exported products: 97\n",
      "Number of unique codes for imported products: 97\n"
     ]
    }
   ],
   "source": [
    "#number of unique codes for exported products, excluding '00' codes\n",
    "\n",
    "print('Number of unique codes for exported products:', goods_exports[goods_exports['Code']!='00']['Code'].nunique())\n",
    "\n",
    "print('Number of unique codes for imported products:', goods_imports[goods_imports['Code']!='00']['Code'].nunique())"
   ]
  },
  {
   "cell_type": "code",
   "execution_count": 9,
   "metadata": {},
   "outputs": [],
   "source": [
    "#number of countries per quarter\n",
    "\n",
    "countries_perquarter_exp = goods_exports.groupby('Period')['Country'].nunique()\n",
    "countries_perquarter_imp = goods_imports.groupby('Period')['Country'].nunique()"
   ]
  },
  {
   "cell_type": "code",
   "execution_count": 10,
   "metadata": {},
   "outputs": [
    {
     "data": {
      "image/png": "[encoded data removed]",
      "text/plain": [
       "<Figure size 864x432 with 1 Axes>"
      ]
     },
     "metadata": {},
     "output_type": "display_data"
    }
   ],
   "source": [
    "fig,ax = plt.subplots()\n",
    "line1=ax.plot(countries_perquarter_exp.index, countries_perquarter_exp.values, color = 'c', marker='o',label=\"Exports\")\n",
    "line2=ax.plot(countries_perquarter_imp.index, countries_perquarter_imp.values, color = 'orange', marker='o', label=\"Imports\")\n",
    "\n",
    "ax.set_xlabel('Date')\n",
    "ax.set_title('Number of countries per quarter')\n",
    "ax.set_ylabel('Number of countries per quarter')\n",
    "plt.show()"
   ]
  },
  {
   "cell_type": "code",
   "execution_count": 11,
   "metadata": {},
   "outputs": [
    {
     "name": "stdout",
     "output_type": "stream",
     "text": [
      "           Country Code      Country  Account Category Code Flag  \\\n",
      "Period                                                             \n",
      "2014-06-01           AF  Afghanistan  Exports    Goods   00    F   \n",
      "2014-06-01           AL      Albania  Exports    Goods   00    F   \n",
      "2014-06-01           DZ      Algeria  Exports    Goods   00    F   \n",
      "2014-06-01           AO       Angola  Exports    Goods   00    F   \n",
      "2014-06-01           AQ   Antarctica  Exports    Goods   00    F   \n",
      "\n",
      "            Total Value (NZD) Description  \n",
      "Period                                     \n",
      "2014-06-01            20620.0       Total  \n",
      "2014-06-01           156520.0       Total  \n",
      "2014-06-01        183286021.0       Total  \n",
      "2014-06-01         12731987.0       Total  \n",
      "2014-06-01            25229.0       Total  \n"
     ]
    }
   ],
   "source": [
    "#total exports per country\n",
    "\n",
    "goods_exports_total= df[(df[\"Account\"]=='Exports') & (df[\"Category\"]=='Goods')  & (df[\"Description\"]=='Total')]\n",
    "print(goods_exports_total.head(5))"
   ]
  },
  {
   "cell_type": "markdown",
   "metadata": {},
   "source": [
    "#### Dataframes for services"
   ]
  },
  {
   "cell_type": "code",
   "execution_count": 12,
   "metadata": {},
   "outputs": [
    {
     "name": "stdout",
     "output_type": "stream",
     "text": [
      "services_exports: (35756, 8) services_imports: (28787, 8)\n"
     ]
    }
   ],
   "source": [
    "#creating data frames for exported and imported services\n",
    "\n",
    "services_exports= df[(df[\"Account\"]=='Exports') & (df[\"Category\"]=='Services') ]\n",
    "services_imports= df[(df[\"Account\"]=='Imports') & (df[\"Category\"]=='Services') ]\n",
    "\n",
    "#size of dataframes\n",
    "print('services_exports:', services_exports.shape, 'services_imports:', services_imports.shape)"
   ]
  },
  {
   "cell_type": "code",
   "execution_count": 13,
   "metadata": {},
   "outputs": [
    {
     "name": "stdout",
     "output_type": "stream",
     "text": [
      "Time Interval: between 2014-06-01 00:00:00 quarter and  2022-09-01 00:00:00 quarter\n"
     ]
    }
   ],
   "source": [
    "print('Time Interval: between' , services_exports.index.min(), 'quarter and ', services_exports.index.max(), 'quarter')"
   ]
  },
  {
   "cell_type": "markdown",
   "metadata": {},
   "source": [
    "Exported and imported services are labeled with two and four digits A codes. "
   ]
  },
  {
   "cell_type": "code",
   "execution_count": 14,
   "metadata": {},
   "outputs": [
    {
     "name": "stdout",
     "output_type": "stream",
     "text": [
      "    key_0  Country_x  Country_y\n",
      "0     A12        242        240\n",
      "1   A1202         60         67\n",
      "2   A1203         61         64\n",
      "3   A1204        241        234\n",
      "4   A1205         61         65\n",
      "5   A1206         54         49\n",
      "6   A1207        150         74\n",
      "7   A1208        163        123\n",
      "8   A1209        178        174\n",
      "9   A1210        212        210\n",
      "10  A1211        164        121\n",
      "11  A1212        234         49\n"
     ]
    }
   ],
   "source": [
    "#number of countries per services code\n",
    "\n",
    "services_exp = services_exports.groupby('Code')['Country'].nunique()\n",
    "services_imp = services_imports.groupby('Code')['Country'].nunique()\n",
    "print(pd.merge(services_exp, services_imp, left_on=services_exp.index, right_on=services_imp.index, how='left'))"
   ]
  },
  {
   "cell_type": "code",
   "execution_count": 15,
   "metadata": {},
   "outputs": [],
   "source": [
    "#number of countries per quarter \n",
    "countries_perquarter = services_exports.groupby('Period')['Country'].nunique()"
   ]
  }
 ],
 "metadata": {
  "kernelspec": {
   "display_name": "Python 3",
   "language": "python",
   "name": "python3"
  },
  "language_info": {
   "codemirror_mode": {
    "name": "ipython",
    "version": 3
   },
   "file_extension": ".py",
   "mimetype": "text/x-python",
   "name": "python",
   "nbconvert_exporter": "python",
   "pygments_lexer": "ipython3",
   "version": "3.7.4"
  }
 },
 "nbformat": 4,
 "nbformat_minor": 4
}
